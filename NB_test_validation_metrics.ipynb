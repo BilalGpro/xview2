{
 "cells": [
  {
   "cell_type": "markdown",
   "metadata": {},
   "source": [
    "# Test Validation Metrics\n",
    "\n",
    "During evaluation when training the model, images are put into `metrics/PRED_DIR/` and `metrics/TARG_DIR/`, so this file is used to visually test the results written to those locations."
   ]
  },
  {
   "cell_type": "code",
   "execution_count": null,
   "metadata": {},
   "outputs": [],
   "source": [
    "%matplotlib inline\n",
    "from pycocotools.coco import COCO\n",
    "import numpy as np\n",
    "import cv2\n",
    "import skimage.io as io\n",
    "import matplotlib.pyplot as plt\n",
    "import glob\n",
    "import os\n",
    "import random"
   ]
  },
  {
   "cell_type": "code",
   "execution_count": null,
   "metadata": {},
   "outputs": [],
   "source": [
    "TYPE = \"pre\" # pre (localization) or post (disaster)\n",
    "PATH = \"./metrics/PRED_DIR/*{}*\".format(TYPE)"
   ]
  },
  {
   "cell_type": "code",
   "execution_count": null,
   "metadata": {},
   "outputs": [],
   "source": [
    "image_names = [os.path.basename(path) for path in glob.glob(PATH)]\n",
    "image_name = image_names[random.randint(0, len(image_names) - 1)]\n",
    "print(\"image_name: {}\".format(image_name))"
   ]
  },
  {
   "cell_type": "code",
   "execution_count": null,
   "metadata": {},
   "outputs": [],
   "source": [
    "pred_image = cv2.imread(\"./metrics/PRED_DIR/{}\".format(image_name))\n",
    "targ_image = cv2.imread(\"./metrics/TARG_DIR/{}\".format(image_name))\n",
    "orig_image = cv2.imread(\"./data/train/images/{}\".format(image_name))"
   ]
  },
  {
   "cell_type": "code",
   "execution_count": null,
   "metadata": {},
   "outputs": [],
   "source": [
    "def get_image_with_class_value(image, value):\n",
    "    return np.where(image == value, 1, 0).astype(\"uint8\") * 255"
   ]
  },
  {
   "cell_type": "code",
   "execution_count": null,
   "metadata": {},
   "outputs": [],
   "source": [
    "if TYPE == \"pre\":\n",
    "    image = np.hstack([pred_image * 255, orig_image, targ_image * 255])\n",
    "    plt.figure(figsize=(20, 10))\n",
    "    plt.imshow(image)\n",
    "    print(\"Pred, original, targ\")\n",
    "elif TYPE == \"post\":\n",
    "    top_image = np.hstack([\n",
    "        get_image_with_class_value(pred_image, 1),\n",
    "        get_image_with_class_value(pred_image, 2),\n",
    "        get_image_with_class_value(pred_image, 3),\n",
    "        get_image_with_class_value(pred_image, 4),\n",
    "        orig_image])\n",
    "    bottom_image = np.hstack([\n",
    "        get_image_with_class_value(targ_image, 1),\n",
    "        get_image_with_class_value(targ_image, 2),\n",
    "        get_image_with_class_value(targ_image, 3),\n",
    "        get_image_with_class_value(targ_image, 4),\n",
    "        orig_image])\n",
    "    image = np.vstack([top_image, bottom_image])\n",
    "    plt.figure(figsize=(20, 10))\n",
    "    plt.imshow(image)\n",
    "    print(\"Pred, original, targ\")"
   ]
  }
 ],
 "metadata": {
  "kernelspec": {
   "display_name": "Python 3",
   "language": "python",
   "name": "python3"
  },
  "language_info": {
   "codemirror_mode": {
    "name": "ipython",
    "version": 3
   },
   "file_extension": ".py",
   "mimetype": "text/x-python",
   "name": "python",
   "nbconvert_exporter": "python",
   "pygments_lexer": "ipython3",
   "version": "3.7.3"
  }
 },
 "nbformat": 4,
 "nbformat_minor": 1
}
