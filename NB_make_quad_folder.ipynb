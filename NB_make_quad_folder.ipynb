{
 "cells": [
  {
   "cell_type": "markdown",
   "metadata": {},
   "source": [
    "# Make Quad Folder"
   ]
  },
  {
   "cell_type": "code",
   "execution_count": 24,
   "metadata": {},
   "outputs": [],
   "source": [
    "%matplotlib inline\n",
    "from pycocotools.coco import COCO\n",
    "import numpy as np\n",
    "import cv2\n",
    "import skimage.io as io\n",
    "import matplotlib.pyplot as plt\n",
    "import glob\n",
    "import os\n",
    "import random\n",
    "from PIL import Image"
   ]
  },
  {
   "cell_type": "code",
   "execution_count": 29,
   "metadata": {},
   "outputs": [],
   "source": [
    "IMAGE_PATH = \"./data/aligned_pre_post_dark/\"\n",
    "OUT_IMAGE_PATH = \"./data/aligned_pre_post_dark_quad/\"\n",
    "IMAGE_PATH_GT = \"./data/train_gt/\"\n",
    "OUT_IMAGE_PATH_GT = \"./data/train_gt_quad/\""
   ]
  },
  {
   "cell_type": "code",
   "execution_count": 30,
   "metadata": {},
   "outputs": [
    {
     "name": "stderr",
     "output_type": "stream",
     "text": [
      "  0%|          | 3/9168 [00:00<06:38, 23.01it/s]"
     ]
    },
    {
     "name": "stdout",
     "output_type": "stream",
     "text": [
      "9168\n"
     ]
    },
    {
     "name": "stderr",
     "output_type": "stream",
     "text": [
      "100%|██████████| 9168/9168 [06:30<00:00, 22.87it/s]\n"
     ]
    }
   ],
   "source": [
    "filenames = glob.glob(os.path.join(IMAGE_PATH, \"*.png\"))\n",
    "print(len(filenames))\n",
    "from tqdm import tqdm\n",
    "for filename in tqdm(filenames):\n",
    "    image = cv2.imread(filename)\n",
    "    tl = image[0:512,0:512, :]\n",
    "    tr = image[0:512,512:1024, :]\n",
    "    bl = image[512:1024,0:512, :]\n",
    "    br = image[512:1024,512:1024, :]\n",
    "    basename = os.path.basename(filename).replace(\".png\", \"\")\n",
    "    cv2.imwrite(\n",
    "        os.path.join(OUT_IMAGE_PATH, basename) + \"_tl.png\",\n",
    "        tl\n",
    "    )\n",
    "    cv2.imwrite(\n",
    "        os.path.join(OUT_IMAGE_PATH, basename) + \"_tr.png\",\n",
    "        tr\n",
    "    )\n",
    "    cv2.imwrite(\n",
    "        os.path.join(OUT_IMAGE_PATH, basename) + \"_bl.png\",\n",
    "        bl\n",
    "    )\n",
    "    cv2.imwrite(\n",
    "        os.path.join(OUT_IMAGE_PATH, basename) + \"_br.png\",\n",
    "        br\n",
    "    )"
   ]
  },
  {
   "cell_type": "code",
   "execution_count": 17,
   "metadata": {
    "scrolled": true
   },
   "outputs": [
    {
     "name": "stderr",
     "output_type": "stream",
     "text": [
      "  0%|          | 19/18336 [00:00<01:38, 185.23it/s]"
     ]
    },
    {
     "name": "stdout",
     "output_type": "stream",
     "text": [
      "18336\n"
     ]
    },
    {
     "name": "stderr",
     "output_type": "stream",
     "text": [
      "100%|██████████| 18336/18336 [01:33<00:00, 196.05it/s]\n"
     ]
    }
   ],
   "source": [
    "filenames = glob.glob(os.path.join(IMAGE_PATH_GT, \"*.png\"))\n",
    "print(len(filenames))\n",
    "from tqdm import tqdm\n",
    "for filename in tqdm(filenames):\n",
    "    image = io.imread(filename)\n",
    "    tl = image[0:512,0:512]\n",
    "    tr = image[0:512,512:1024]\n",
    "    bl = image[512:1024,0:512]\n",
    "    br = image[512:1024,512:1024]\n",
    "    basename = os.path.basename(filename).replace(\".png\", \"\")\n",
    "    cv2.imwrite(\n",
    "        os.path.join(OUT_IMAGE_PATH_GT, basename) + \"_tl.png\",\n",
    "        tl\n",
    "    )\n",
    "    cv2.imwrite(\n",
    "        os.path.join(OUT_IMAGE_PATH_GT, basename) + \"_tr.png\",\n",
    "        tr\n",
    "    )\n",
    "    cv2.imwrite(\n",
    "        os.path.join(OUT_IMAGE_PATH_GT, basename) + \"_bl.png\",\n",
    "        bl\n",
    "    )\n",
    "    cv2.imwrite(\n",
    "        os.path.join(OUT_IMAGE_PATH_GT, basename) + \"_br.png\",\n",
    "        br\n",
    "    )"
   ]
  }
 ],
 "metadata": {
  "kernelspec": {
   "display_name": "Python 3",
   "language": "python",
   "name": "python3"
  },
  "language_info": {
   "codemirror_mode": {
    "name": "ipython",
    "version": 3
   },
   "file_extension": ".py",
   "mimetype": "text/x-python",
   "name": "python",
   "nbconvert_exporter": "python",
   "pygments_lexer": "ipython3",
   "version": "3.7.3"
  }
 },
 "nbformat": 4,
 "nbformat_minor": 1
}
