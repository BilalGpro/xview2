{
 "cells": [
  {
   "cell_type": "code",
   "execution_count": 2,
   "metadata": {},
   "outputs": [],
   "source": [
    "import pandas as pd"
   ]
  },
  {
   "cell_type": "code",
   "execution_count": 117,
   "metadata": {},
   "outputs": [],
   "source": [
    "csv = 'train_wkt_v4.csv'\n",
    "annotations = pd.read_csv(csv)\n",
    "is_building = u['ClassType']==1\n",
    "building_only = annotations[is_building]\n",
    "is_building_not_empty =  building_only['MultipolygonWKT']!='MULTIPOLYGON EMPTY'\n",
    "buildings = building_only[is_building_not_empty]"
   ]
  },
  {
   "cell_type": "code",
   "execution_count": 118,
   "metadata": {},
   "outputs": [
    {
     "data": {
      "text/html": [
       "<div>\n",
       "<style scoped>\n",
       "    .dataframe tbody tr th:only-of-type {\n",
       "        vertical-align: middle;\n",
       "    }\n",
       "\n",
       "    .dataframe tbody tr th {\n",
       "        vertical-align: top;\n",
       "    }\n",
       "\n",
       "    .dataframe thead th {\n",
       "        text-align: right;\n",
       "    }\n",
       "</style>\n",
       "<table border=\"1\" class=\"dataframe\">\n",
       "  <thead>\n",
       "    <tr style=\"text-align: right;\">\n",
       "      <th></th>\n",
       "      <th>ImageId</th>\n",
       "      <th>ClassType</th>\n",
       "      <th>MultipolygonWKT</th>\n",
       "    </tr>\n",
       "  </thead>\n",
       "  <tbody>\n",
       "    <tr>\n",
       "      <th>10</th>\n",
       "      <td>6120_2_2</td>\n",
       "      <td>1</td>\n",
       "      <td>MULTIPOLYGON (((0.000439 -0.009039999999999999...</td>\n",
       "    </tr>\n",
       "    <tr>\n",
       "      <th>20</th>\n",
       "      <td>6120_2_0</td>\n",
       "      <td>1</td>\n",
       "      <td>MULTIPOLYGON (((0.005324 -0.002879, 0.005327 -...</td>\n",
       "    </tr>\n",
       "    <tr>\n",
       "      <th>60</th>\n",
       "      <td>6100_1_3</td>\n",
       "      <td>1</td>\n",
       "      <td>MULTIPOLYGON (((0.000748 -0.009042, 0.000745 -...</td>\n",
       "    </tr>\n",
       "    <tr>\n",
       "      <th>80</th>\n",
       "      <td>6110_4_0</td>\n",
       "      <td>1</td>\n",
       "      <td>MULTIPOLYGON (((0.007546 -0.005158, 0.007584 -...</td>\n",
       "    </tr>\n",
       "    <tr>\n",
       "      <th>90</th>\n",
       "      <td>6140_3_1</td>\n",
       "      <td>1</td>\n",
       "      <td>MULTIPOLYGON (((0.0041385419488102 -0.00889310...</td>\n",
       "    </tr>\n",
       "    <tr>\n",
       "      <th>100</th>\n",
       "      <td>6110_1_2</td>\n",
       "      <td>1</td>\n",
       "      <td>MULTIPOLYGON (((5.99993550571e-05 -0.009031902...</td>\n",
       "    </tr>\n",
       "    <tr>\n",
       "      <th>110</th>\n",
       "      <td>6100_2_3</td>\n",
       "      <td>1</td>\n",
       "      <td>MULTIPOLYGON (((0.008963998153499299 -0.009041...</td>\n",
       "    </tr>\n",
       "    <tr>\n",
       "      <th>140</th>\n",
       "      <td>6140_1_2</td>\n",
       "      <td>1</td>\n",
       "      <td>MULTIPOLYGON (((0.000102 -0.009039999999999999...</td>\n",
       "    </tr>\n",
       "    <tr>\n",
       "      <th>150</th>\n",
       "      <td>6110_3_1</td>\n",
       "      <td>1</td>\n",
       "      <td>MULTIPOLYGON (((0.0040671780447186 -0.00889538...</td>\n",
       "    </tr>\n",
       "    <tr>\n",
       "      <th>200</th>\n",
       "      <td>6060_2_3</td>\n",
       "      <td>1</td>\n",
       "      <td>MULTIPOLYGON (((0.006565 -0.008494, 0.006652 -...</td>\n",
       "    </tr>\n",
       "    <tr>\n",
       "      <th>210</th>\n",
       "      <td>6070_2_3</td>\n",
       "      <td>1</td>\n",
       "      <td>MULTIPOLYGON (((0.0045699999999998 -0.00904499...</td>\n",
       "    </tr>\n",
       "    <tr>\n",
       "      <th>240</th>\n",
       "      <td>6100_2_2</td>\n",
       "      <td>1</td>\n",
       "      <td>MULTIPOLYGON (((0.007676 -0.005554, 0.007721 -...</td>\n",
       "    </tr>\n",
       "  </tbody>\n",
       "</table>\n",
       "</div>"
      ],
      "text/plain": [
       "      ImageId  ClassType                                    MultipolygonWKT\n",
       "10   6120_2_2          1  MULTIPOLYGON (((0.000439 -0.009039999999999999...\n",
       "20   6120_2_0          1  MULTIPOLYGON (((0.005324 -0.002879, 0.005327 -...\n",
       "60   6100_1_3          1  MULTIPOLYGON (((0.000748 -0.009042, 0.000745 -...\n",
       "80   6110_4_0          1  MULTIPOLYGON (((0.007546 -0.005158, 0.007584 -...\n",
       "90   6140_3_1          1  MULTIPOLYGON (((0.0041385419488102 -0.00889310...\n",
       "100  6110_1_2          1  MULTIPOLYGON (((5.99993550571e-05 -0.009031902...\n",
       "110  6100_2_3          1  MULTIPOLYGON (((0.008963998153499299 -0.009041...\n",
       "140  6140_1_2          1  MULTIPOLYGON (((0.000102 -0.009039999999999999...\n",
       "150  6110_3_1          1  MULTIPOLYGON (((0.0040671780447186 -0.00889538...\n",
       "200  6060_2_3          1  MULTIPOLYGON (((0.006565 -0.008494, 0.006652 -...\n",
       "210  6070_2_3          1  MULTIPOLYGON (((0.0045699999999998 -0.00904499...\n",
       "240  6100_2_2          1  MULTIPOLYGON (((0.007676 -0.005554, 0.007721 -..."
      ]
     },
     "execution_count": 118,
     "metadata": {},
     "output_type": "execute_result"
    }
   ],
   "source": [
    "buildings"
   ]
  },
  {
   "cell_type": "code",
   "execution_count": null,
   "metadata": {},
   "outputs": [],
   "source": []
  },
  {
   "cell_type": "code",
   "execution_count": null,
   "metadata": {},
   "outputs": [],
   "source": []
  },
  {
   "cell_type": "code",
   "execution_count": null,
   "metadata": {},
   "outputs": [],
   "source": []
  },
  {
   "cell_type": "code",
   "execution_count": null,
   "metadata": {},
   "outputs": [],
   "source": []
  },
  {
   "cell_type": "code",
   "execution_count": null,
   "metadata": {},
   "outputs": [],
   "source": []
  },
  {
   "cell_type": "code",
   "execution_count": null,
   "metadata": {},
   "outputs": [],
   "source": []
  },
  {
   "cell_type": "code",
   "execution_count": null,
   "metadata": {},
   "outputs": [],
   "source": []
  },
  {
   "cell_type": "code",
   "execution_count": null,
   "metadata": {},
   "outputs": [],
   "source": []
  },
  {
   "cell_type": "code",
   "execution_count": null,
   "metadata": {},
   "outputs": [],
   "source": []
  },
  {
   "cell_type": "code",
   "execution_count": null,
   "metadata": {},
   "outputs": [],
   "source": []
  },
  {
   "cell_type": "code",
   "execution_count": null,
   "metadata": {},
   "outputs": [],
   "source": []
  },
  {
   "cell_type": "code",
   "execution_count": null,
   "metadata": {},
   "outputs": [],
   "source": []
  }
 ],
 "metadata": {
  "kernelspec": {
   "display_name": "Python 3",
   "language": "python",
   "name": "python3"
  },
  "language_info": {
   "codemirror_mode": {
    "name": "ipython",
    "version": 2
   },
   "file_extension": ".py",
   "mimetype": "text/x-python",
   "name": "python",
   "nbconvert_exporter": "python",
   "pygments_lexer": "ipython2",
   "version": "2.7.15"
  }
 },
 "nbformat": 4,
 "nbformat_minor": 2
}
