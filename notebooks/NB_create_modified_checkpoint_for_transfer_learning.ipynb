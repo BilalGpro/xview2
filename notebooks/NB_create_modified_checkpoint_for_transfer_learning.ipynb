{
 "cells": [
  {
   "cell_type": "markdown",
   "metadata": {},
   "source": [
    " # Modify Checkpoint For Transfer Learning\n",
    " \n",
    " Issues with `iteration` saved in the checkpoint means we should modify the weights. https://github.com/facebookresearch/detectron2/issues/222"
   ]
  },
  {
   "cell_type": "code",
   "execution_count": 19,
   "metadata": {},
   "outputs": [
    {
     "name": "stdout",
     "output_type": "stream",
     "text": [
      "current keys\n",
      "dict_keys(['model', 'optimizer', 'scheduler', 'iteration'])\n",
      "deleting  optimizer\n",
      "deleting  scheduler\n",
      "deleting  iteration\n",
      "now have:\n",
      "dict_keys(['model'])\n",
      "saving to  ./outputs/output_localization_22/model_final_modified_transfer.pth\n"
     ]
    }
   ],
   "source": [
    "import torch\n",
    "\n",
    "path = \"./outputs/output_localization_22/model_final.pth\"\n",
    "new_path = \"./outputs/output_localization_22/model_final_modified_transfer.pth\"\n",
    "checkpoint = torch.load(path)\n",
    "\n",
    "print(\"current keys\")\n",
    "print(checkpoint.keys())\n",
    "\n",
    "checkpoint[\"iteration\"]\n",
    "keys = list(checkpoint.keys())\n",
    "for key in keys:\n",
    "    if key != \"model\":\n",
    "        print(\"deleting \", key)\n",
    "        del checkpoint[key]\n",
    "print(\"now have:\")\n",
    "print(checkpoint.keys())\n",
    "\n",
    "print(\"saving to \", new_path)\n",
    "torch.save(checkpoint, new_path)"
   ]
  },
  {
   "cell_type": "code",
   "execution_count": null,
   "metadata": {},
   "outputs": [],
   "source": []
  }
 ],
 "metadata": {
  "kernelspec": {
   "display_name": "Python 3",
   "language": "python",
   "name": "python3"
  },
  "language_info": {
   "codemirror_mode": {
    "name": "ipython",
    "version": 3
   },
   "file_extension": ".py",
   "mimetype": "text/x-python",
   "name": "python",
   "nbconvert_exporter": "python",
   "pygments_lexer": "ipython3",
   "version": "3.7.3"
  }
 },
 "nbformat": 4,
 "nbformat_minor": 2
}
