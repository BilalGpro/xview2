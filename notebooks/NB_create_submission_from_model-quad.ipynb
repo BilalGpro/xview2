{
 "cells": [
  {
   "cell_type": "markdown",
   "metadata": {},
   "source": [
    "# Create Submission From Model\n",
    "\n",
    "Run inference on the test images to create results ready for submission. This will create a folder called `submission` in the current directory."
   ]
  },
  {
   "cell_type": "code",
   "execution_count": null,
   "metadata": {},
   "outputs": [],
   "source": [
    "%load_ext autoreload\n",
    "%autoreload 2"
   ]
  },
  {
   "cell_type": "code",
   "execution_count": null,
   "metadata": {
    "colab": {},
    "colab_type": "code",
    "id": "9_FzH13EjseR",
    "scrolled": false
   },
   "outputs": [],
   "source": [
    "import torch, torchvision\n",
    "torch.__version__"
   ]
  },
  {
   "cell_type": "code",
   "execution_count": null,
   "metadata": {},
   "outputs": [],
   "source": [
    "from detectron2.evaluation.xview_evaluation import *"
   ]
  },
  {
   "cell_type": "code",
   "execution_count": null,
   "metadata": {
    "colab": {},
    "colab_type": "code",
    "id": "ZyAvNCJMmvFF",
    "scrolled": true
   },
   "outputs": [],
   "source": [
    "# You may need to restart your runtime prior to this, to let your installation take effect\n",
    "# Some basic setup\n",
    "# Setup detectron2 logger\n",
    "import detectron2\n",
    "from detectron2.utils.logger import setup_logger\n",
    "setup_logger()\n",
    "\n",
    "# import some common libraries\n",
    "import numpy as np\n",
    "import cv2\n",
    "\n",
    "# import some common detectron2 utilities\n",
    "from detectron2.engine import DefaultPredictor\n",
    "from detectron2.config import get_cfg\n",
    "from detectron2.utils.visualizer import Visualizer\n",
    "from detectron2.data import MetadataCatalog\n",
    "\n",
    "import os\n",
    "import numpy as np\n",
    "import json\n",
    "import shutil\n",
    "import cv2\n",
    "import random\n",
    "import glob\n",
    "\n",
    "import matplotlib.pyplot as plt\n",
    "%matplotlib inline"
   ]
  },
  {
   "cell_type": "code",
   "execution_count": null,
   "metadata": {},
   "outputs": [],
   "source": [
    "# Set some parameters.\n",
    "LOCALIZATION_SUBMISSION_FOLDER = \"SUBMISSION_LOCALIZATION\"\n",
    "# LOCALIZATION_MODEL_CONFIG = \"./configs/xview/localization-28.yaml\"\n",
    "DAMAGE_SUBMISSION_FOLDER = \"SUBMISSION_DAMAGE\"\n",
    "DAMAGE_MODEL_CONFIG = \"./configs/xview/joint-11.yaml\""
   ]
  },
  {
   "cell_type": "code",
   "execution_count": null,
   "metadata": {},
   "outputs": [],
   "source": [
    "# Removes and creates folders (clears them).\n",
    "shutil.rmtree(LOCALIZATION_SUBMISSION_FOLDER, ignore_errors=True)\n",
    "shutil.rmtree(DAMAGE_SUBMISSION_FOLDER, ignore_errors=True)\n",
    "os.mkdir(LOCALIZATION_SUBMISSION_FOLDER)\n",
    "os.mkdir(DAMAGE_SUBMISSION_FOLDER)"
   ]
  },
  {
   "cell_type": "code",
   "execution_count": null,
   "metadata": {
    "colab": {
     "base_uri": "https://localhost:8080/",
     "height": 1000
    },
    "colab_type": "code",
    "id": "7unkuuiqLdqd",
    "outputId": "aba59cf2-f198-4269-eaca-ae7e1f1fb6dc",
    "scrolled": false
   },
   "outputs": [],
   "source": [
    "from detectron2.engine import DefaultTrainer\n",
    "from detectron2.config import get_cfg\n",
    "\n",
    "# # Load localization model.\n",
    "# cfg_localization = get_cfg()\n",
    "# cfg_localization.merge_from_file(LOCALIZATION_MODEL_CONFIG)\n",
    "# # Load localization checkpoint.\n",
    "# cfg_localization.MODEL.WEIGHTS = os.path.join(cfg_localization.OUTPUT_DIR, \"model_0159999.pth\")\n",
    "# # cfg_localization.MODEL.ROI_HEADS.SCORE_THRESH_TEST = 0.7 # set the testing threshold for this model\n",
    "# predictor_localization = DefaultPredictor(cfg_localization)\n",
    "\n",
    "# Load damage model.\n",
    "cfg_damage = get_cfg()\n",
    "cfg_damage.merge_from_file(DAMAGE_MODEL_CONFIG)\n",
    "# Load damage checkpoint.\n",
    "cfg_damage.MODEL.WEIGHTS = os.path.join(cfg_damage.OUTPUT_DIR, \"model_0169999.pth\")\n",
    "# cfg_damage.MODEL.ROI_HEADS.SCORE_THRESH_TEST = 0.7 # set the testing threshold for this model\n",
    "predictor_damage = DefaultPredictor(cfg_damage)"
   ]
  },
  {
   "cell_type": "code",
   "execution_count": null,
   "metadata": {
    "scrolled": true
   },
   "outputs": [],
   "source": [
    "image_filenames = sorted(glob.glob(\"data/test_images_quad/*\"))\n",
    "count = 0\n",
    "bl = None\n",
    "br = None\n",
    "tl = None\n",
    "tr = None\n",
    "temp = np.zeros((1024, 1024)).astype(int)\n",
    "for filename in image_filenames:\n",
    "    \n",
    "    mod_val = count % 4\n",
    "    \n",
    "    # Choose the model type based on pre or post localization\n",
    "    if filename.find(\"pre\") >= 0:\n",
    "        pass\n",
    "#         # LOCALIZATION model.\n",
    "#         outputs = predictor_localization(image)\n",
    "    \n",
    "#         output = outputs[\"sem_seg\"].argmax(dim=0).cpu()\n",
    "#         pred_image = np.array(output, dtype=np.int)\n",
    "        \n",
    "#         if mod_val == 0:\n",
    "#             bl = pred_image\n",
    "#         elif mod_val == 1:\n",
    "#             br = pred_image\n",
    "#         elif mod_val == 2:\n",
    "#             tl = pred_image\n",
    "#         elif mod_val == 3:\n",
    "#             tr = pred_image\n",
    "            \n",
    "#             temp[0:512,0:512] = tl\n",
    "#             temp[0:512,512:1024] = tr\n",
    "#             temp[512:1024,0:512] = bl\n",
    "#             temp[512:1024,512:1024] = br\n",
    "        \n",
    "#             name = os.path.basename(filename).replace(\"_tr\", \"\")\n",
    "#             new_filename = name.replace(\"pre\", \"localization\")[:-4] + \"_prediction.png\"\n",
    "#             submission_filename = os.path.join(LOCALIZATION_SUBMISSION_FOLDER, new_filename)\n",
    "\n",
    "#             print(submission_filename)\n",
    "#             cv2.imwrite(submission_filename, temp)\n",
    "        \n",
    "    elif filename.find(\"post\") >= 0:\n",
    "        # Load the image.\n",
    "        image = cv2.imread(filename)\n",
    "        pre_image = cv2.imread(filename.replace(\"post\", \"pre\"))\n",
    "    \n",
    "        # DAMAGE model.\n",
    "        outputs = predictor_damage(image, pre_image)\n",
    "    \n",
    "        output = outputs[\"sem_seg\"].argmax(dim=0).cpu()\n",
    "        pred_image = np.array(output, dtype=np.int)\n",
    "        \n",
    "        if mod_val == 0:\n",
    "            bl = pred_image\n",
    "        elif mod_val == 1:\n",
    "            br = pred_image\n",
    "        elif mod_val == 2:\n",
    "            tl = pred_image\n",
    "        elif mod_val == 3:\n",
    "            tr = pred_image\n",
    "            \n",
    "            temp[0:512,0:512] = tl\n",
    "            temp[0:512,512:1024] = tr\n",
    "            temp[512:1024,0:512] = bl\n",
    "            temp[512:1024,512:1024] = br\n",
    "        \n",
    "            name = os.path.basename(filename).replace(\"_tr\", \"\")\n",
    "            new_filename = name.replace(\"post\", \"damage\")[:-4] + \"_prediction.png\"\n",
    "            submission_filename = os.path.join(DAMAGE_SUBMISSION_FOLDER, new_filename)\n",
    "\n",
    "            print(submission_filename)\n",
    "            cv2.imwrite(submission_filename, temp)\n",
    "            \n",
    "            new_filename = name.replace(\"post\", \"localization\")[:-4] + \"_prediction.png\"\n",
    "            submission_filename = os.path.join(LOCALIZATION_SUBMISSION_FOLDER, new_filename)\n",
    "\n",
    "            print(submission_filename)\n",
    "            cv2.imwrite(submission_filename, temp)\n",
    "        \n",
    "    count += 1\n"
   ]
  },
  {
   "cell_type": "code",
   "execution_count": null,
   "metadata": {},
   "outputs": [],
   "source": [
    "import datetime\n",
    "now = datetime.datetime.now()\n",
    "this_time = now.strftime(\"%m_%d_%Y_%H_%M_%S\")\n",
    "submission_folder = \"submission_{}\".format(this_time)\n",
    "print(submission_folder)\n",
    "os.mkdir(submission_folder)"
   ]
  },
  {
   "cell_type": "code",
   "execution_count": null,
   "metadata": {},
   "outputs": [],
   "source": [
    "import os\n",
    "os.system(\"cp {}/* {}/\".format(LOCALIZATION_SUBMISSION_FOLDER, submission_folder))\n",
    "os.system(\"cp {}/* {}/\".format(DAMAGE_SUBMISSION_FOLDER, submission_folder))\n",
    "os.system(\"zip -r {}.zip {}\".format(submission_folder, submission_folder))"
   ]
  }
 ],
 "metadata": {
  "kernelspec": {
   "display_name": "Python 3",
   "language": "python",
   "name": "python3"
  },
  "language_info": {
   "codemirror_mode": {
    "name": "ipython",
    "version": 3
   },
   "file_extension": ".py",
   "mimetype": "text/x-python",
   "name": "python",
   "nbconvert_exporter": "python",
   "pygments_lexer": "ipython3",
   "version": "3.7.3"
  }
 },
 "nbformat": 4,
 "nbformat_minor": 1
}
