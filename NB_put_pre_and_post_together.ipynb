{
 "cells": [
  {
   "cell_type": "markdown",
   "metadata": {},
   "source": [
    "# Pre and Post Together\n",
    "\n"
   ]
  },
  {
   "cell_type": "code",
   "execution_count": 100,
   "metadata": {},
   "outputs": [],
   "source": [
    "%matplotlib inline\n",
    "from pycocotools.coco import COCO\n",
    "import numpy as np\n",
    "import skimage.io as io\n",
    "from skimage import color\n",
    "import matplotlib.pyplot as plt\n",
    "import cv2\n",
    "import os\n",
    "import glob\n",
    "from PIL import Image"
   ]
  },
  {
   "cell_type": "code",
   "execution_count": 105,
   "metadata": {},
   "outputs": [],
   "source": [
    "# The images where the COCO dataset lives.\n",
    "dataDir='data/test/images'\n",
    "output='data/test_pre_post'"
   ]
  },
  {
   "cell_type": "code",
   "execution_count": 106,
   "metadata": {},
   "outputs": [
    {
     "name": "stdout",
     "output_type": "stream",
     "text": [
      "num images:  933\n"
     ]
    }
   ],
   "source": [
    "pre_images = sorted(glob.glob(os.path.join(dataDir, \"*pre*\")))\n",
    "post_images = sorted(glob.glob(os.path.join(dataDir, \"*post*\")))\n",
    "print(\"num images: \", len(pre_images))"
   ]
  },
  {
   "cell_type": "code",
   "execution_count": 107,
   "metadata": {
    "scrolled": true
   },
   "outputs": [
    {
     "name": "stderr",
     "output_type": "stream",
     "text": [
      "933it [00:58, 15.50it/s]\n"
     ]
    }
   ],
   "source": [
    "# Go through all images.\n",
    "zeros = np.zeros((1024, 1024)).astype(int)\n",
    "from tqdm import tqdm\n",
    "for pre_filename, post_filename in tqdm(zip(pre_images, post_images)):\n",
    "    pre_image = cv2.imread(pre_filename, cv2.IMREAD_GRAYSCALE)\n",
    "    post_image = cv2.imread(post_filename, cv2.IMREAD_GRAYSCALE)\n",
    "    rgbArray = np.zeros((1024, 1024, 3), 'uint8')\n",
    "    rgbArray[..., 0] = pre_image\n",
    "    rgbArray[..., 1] = post_image\n",
    "    rgbArray[..., 2] = zeros\n",
    "    basename = os.path.basename(post_filename)\n",
    "    write_filename = os.path.join(output, basename)\n",
    "    cv2.imwrite(write_filename, rgbArray)\n",
    "    \n",
    "    "
   ]
  },
  {
   "cell_type": "code",
   "execution_count": null,
   "metadata": {},
   "outputs": [],
   "source": []
  }
 ],
 "metadata": {
  "kernelspec": {
   "display_name": "Python 3",
   "language": "python",
   "name": "python3"
  },
  "language_info": {
   "codemirror_mode": {
    "name": "ipython",
    "version": 3
   },
   "file_extension": ".py",
   "mimetype": "text/x-python",
   "name": "python",
   "nbconvert_exporter": "python",
   "pygments_lexer": "ipython3",
   "version": "3.7.3"
  }
 },
 "nbformat": 4,
 "nbformat_minor": 1
}
