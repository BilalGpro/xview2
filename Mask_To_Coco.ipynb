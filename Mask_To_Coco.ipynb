{
 "cells": [
  {
   "cell_type": "code",
   "execution_count": 1,
   "metadata": {},
   "outputs": [],
   "source": [
    "import os\n",
    "import pandas as pd\n",
    "import numpy as np\n",
    "\n",
    "from shapely.wkt import loads as wkt_loads\n",
    "from shapely import affinity\n",
    "from matplotlib.patches import Polygon\n",
    "import matplotlib.pyplot as plt\n",
    "import matplotlib.image as mpimg\n",
    "from imantics import Polygons, Mask, Annotation, Category, Image, Dataset\n",
    "\n",
    "import cv2\n",
    "import tifffile as tiff\n",
    "import datetime"
   ]
  },
  {
   "cell_type": "code",
   "execution_count": 2,
   "metadata": {},
   "outputs": [],
   "source": [
    "import imantics"
   ]
  },
  {
   "cell_type": "code",
   "execution_count": 3,
   "metadata": {},
   "outputs": [],
   "source": [
    "directory_images = 'train/images'\n",
    "directory_gt = 'train/gt'\n",
    "MA_directory_images = 'Massachussets Building/train/input'\n",
    "MA_directory_gt = 'Massachussets Building/train/target'"
   ]
  },
  {
   "cell_type": "code",
   "execution_count": null,
   "metadata": {},
   "outputs": [],
   "source": []
  },
  {
   "cell_type": "code",
   "execution_count": 62,
   "metadata": {},
   "outputs": [],
   "source": [
    "def create_dataset(directory,dataset_name,is_Massachussets=False):\n",
    "    '''Assumes directory_images is where ground truth labels are. Returns dataset of Masked images with annotations'''\n",
    "    image_list = []\n",
    "    img_id = 0\n",
    "    all_images = os.listdir(directory)\n",
    "    all_images = all_images\n",
    "    for tif_img in all_images:\n",
    "        img_filename = os.path.join(directory, tif_img) \n",
    "        img = mpimg.imread(img_filename)\n",
    "        if is_Massachussets: #Massachussets Building images are RGB and need to be first converted to grayscale\n",
    "            originalImage = cv2.imread(img_filename)\n",
    "            img = cv2.cvtColor(originalImage, cv2.COLOR_BGR2GRAY)\n",
    "        width,height = img.shape\n",
    "        img_array = np.array(img)\n",
    "        img_array_resized = img_array.resize(width, height, 1)\n",
    "        Imantics_image = Image(img_array_resized,id=img_id)\n",
    "        img_annotation= Annotation.from_mask(Mask(img), category = Category('building'))\n",
    "        Imantics_image.add(img_annotation)\n",
    "        image_list.append(Imantics_image)\n",
    "        img_id+=1\n",
    "    empty_dataset = Dataset(dataset_name)\n",
    "    empty_dataset.add(image_list)\n",
    "    print(image_list)\n",
    "    print(empty_dataset.images)\n",
    "    return empty_dataset\n",
    "        \n",
    "\n",
    "    "
   ]
  },
  {
   "cell_type": "code",
   "execution_count": 65,
   "metadata": {},
   "outputs": [
    {
     "name": "stdout",
     "output_type": "stream",
     "text": [
      "2019-10-15 19:52:01.528091\n",
      "[<imantics.image.Image object at 0x113789d50>, <imantics.image.Image object at 0x115bf8250>, <imantics.image.Image object at 0x105855f10>, <imantics.image.Image object at 0x11b2732d0>, <imantics.image.Image object at 0x11b2739d0>]\n",
      "{0: <imantics.image.Image object at 0x113789d50>, 1: <imantics.image.Image object at 0x115bf8250>, 2: <imantics.image.Image object at 0x105855f10>, 3: <imantics.image.Image object at 0x11b2732d0>, 4: <imantics.image.Image object at 0x11b2739d0>, 5: <imantics.image.Image object at 0x11b2bb310>, 6: <imantics.image.Image object at 0x11b2bb5d0>, 7: <imantics.image.Image object at 0x11b2bb890>, 8: <imantics.image.Image object at 0x11b2bbb50>, 9: <imantics.image.Image object at 0x11b2bbe10>}\n",
      "2019-10-15 19:52:02.164984\n"
     ]
    }
   ],
   "source": [
    "print(datetime.datetime.now())\n",
    "inria_dataset= ''\n",
    "inria_dataset= create_dataset(directory_gt, 'AerialImageDataset_Inria')\n",
    "print(datetime.datetime.now())"
   ]
  },
  {
   "cell_type": "code",
   "execution_count": 66,
   "metadata": {},
   "outputs": [
    {
     "data": {
      "text/plain": [
       "{0: <imantics.image.Image at 0x113789d50>,\n",
       " 1: <imantics.image.Image at 0x115bf8250>,\n",
       " 2: <imantics.image.Image at 0x105855f10>,\n",
       " 3: <imantics.image.Image at 0x11b2732d0>,\n",
       " 4: <imantics.image.Image at 0x11b2739d0>,\n",
       " 5: <imantics.image.Image at 0x11b2bb310>,\n",
       " 6: <imantics.image.Image at 0x11b2bb5d0>,\n",
       " 7: <imantics.image.Image at 0x11b2bb890>,\n",
       " 8: <imantics.image.Image at 0x11b2bbb50>,\n",
       " 9: <imantics.image.Image at 0x11b2bbe10>}"
      ]
     },
     "execution_count": 66,
     "metadata": {},
     "output_type": "execute_result"
    }
   ],
   "source": [
    "inria_dataset.images"
   ]
  },
  {
   "cell_type": "code",
   "execution_count": 67,
   "metadata": {},
   "outputs": [
    {
     "name": "stdout",
     "output_type": "stream",
     "text": [
      "2019-10-15 19:52:03.027378\n",
      "2019-10-15 19:52:15.867499\n"
     ]
    }
   ],
   "source": [
    "print(datetime.datetime.now())\n",
    "inria_coco = inria_dataset.coco()\n",
    "print(datetime.datetime.now())\n"
   ]
  },
  {
   "cell_type": "code",
   "execution_count": 68,
   "metadata": {},
   "outputs": [
    {
     "name": "stdout",
     "output_type": "stream",
     "text": [
      "10\n"
     ]
    }
   ],
   "source": [
    "print(len(inria_coco['images']))"
   ]
  },
  {
   "cell_type": "code",
   "execution_count": 25,
   "metadata": {},
   "outputs": [
    {
     "name": "stdout",
     "output_type": "stream",
     "text": [
      "2019-10-15 19:34:26.909566\n",
      "2019-10-15 19:34:28.548452\n"
     ]
    }
   ],
   "source": [
    "print(datetime.datetime.now())\n",
    "mass_dataset= create_dataset(MA_directory_gt, 'Massachussets Building',True)\n",
    "print(datetime.datetime.now())"
   ]
  },
  {
   "cell_type": "code",
   "execution_count": 29,
   "metadata": {},
   "outputs": [
    {
     "name": "stdout",
     "output_type": "stream",
     "text": [
      "2019-10-15 19:35:13.986489\n",
      "2019-10-15 19:35:14.549118\n"
     ]
    }
   ],
   "source": [
    "print(datetime.datetime.now())\n",
    "mass_coco = mass_dataset.coco()\n",
    "print(datetime.datetime.now())"
   ]
  },
  {
   "cell_type": "code",
   "execution_count": 31,
   "metadata": {},
   "outputs": [
    {
     "name": "stdout",
     "output_type": "stream",
     "text": [
      "[{'supercategory': None, 'color': '#48e627', 'metadata': {}, 'id': 0, 'name': 'building'}]\n"
     ]
    }
   ],
   "source": [
    "print(mass_coco['categories'])"
   ]
  },
  {
   "cell_type": "code",
   "execution_count": null,
   "metadata": {},
   "outputs": [],
   "source": []
  },
  {
   "cell_type": "code",
   "execution_count": null,
   "metadata": {},
   "outputs": [],
   "source": []
  },
  {
   "cell_type": "code",
   "execution_count": null,
   "metadata": {},
   "outputs": [],
   "source": []
  },
  {
   "cell_type": "code",
   "execution_count": null,
   "metadata": {},
   "outputs": [],
   "source": []
  },
  {
   "cell_type": "code",
   "execution_count": null,
   "metadata": {},
   "outputs": [],
   "source": []
  },
  {
   "cell_type": "code",
   "execution_count": null,
   "metadata": {},
   "outputs": [],
   "source": []
  },
  {
   "cell_type": "code",
   "execution_count": null,
   "metadata": {},
   "outputs": [],
   "source": []
  },
  {
   "cell_type": "code",
   "execution_count": null,
   "metadata": {},
   "outputs": [],
   "source": []
  },
  {
   "cell_type": "code",
   "execution_count": null,
   "metadata": {},
   "outputs": [],
   "source": []
  },
  {
   "cell_type": "code",
   "execution_count": null,
   "metadata": {},
   "outputs": [],
   "source": []
  },
  {
   "cell_type": "code",
   "execution_count": null,
   "metadata": {},
   "outputs": [],
   "source": []
  },
  {
   "cell_type": "code",
   "execution_count": null,
   "metadata": {},
   "outputs": [],
   "source": []
  },
  {
   "cell_type": "code",
   "execution_count": null,
   "metadata": {},
   "outputs": [],
   "source": []
  },
  {
   "cell_type": "code",
   "execution_count": null,
   "metadata": {},
   "outputs": [],
   "source": []
  },
  {
   "cell_type": "code",
   "execution_count": null,
   "metadata": {},
   "outputs": [],
   "source": []
  },
  {
   "cell_type": "code",
   "execution_count": null,
   "metadata": {},
   "outputs": [],
   "source": []
  }
 ],
 "metadata": {
  "kernelspec": {
   "display_name": "Python 3",
   "language": "python",
   "name": "python3"
  },
  "language_info": {
   "codemirror_mode": {
    "name": "ipython",
    "version": 2
   },
   "file_extension": ".py",
   "mimetype": "text/x-python",
   "name": "python",
   "nbconvert_exporter": "python",
   "pygments_lexer": "ipython2",
   "version": "2.7.15"
  }
 },
 "nbformat": 4,
 "nbformat_minor": 2
}
