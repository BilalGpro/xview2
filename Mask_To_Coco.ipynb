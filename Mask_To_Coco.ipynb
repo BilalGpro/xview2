{
 "cells": [
  {
   "cell_type": "code",
   "execution_count": 125,
   "metadata": {},
   "outputs": [],
   "source": [
    "import os\n",
    "import pandas as pd\n",
    "import numpy as np\n",
    "\n",
    "from shapely.wkt import loads as wkt_loads\n",
    "from shapely import affinity\n",
    "from matplotlib.patches import Polygon\n",
    "import matplotlib.pyplot as plt\n",
    "import matplotlib.image as mpimg\n",
    "from imantics import Polygons, Mask, Annotation, Category, Image, Dataset\n",
    "\n",
    "import cv2\n",
    "import tifffile as tiff\n",
    "import datetime"
   ]
  },
  {
   "cell_type": "code",
   "execution_count": 76,
   "metadata": {},
   "outputs": [],
   "source": [
    "import imantics"
   ]
  },
  {
   "cell_type": "code",
   "execution_count": 241,
   "metadata": {},
   "outputs": [],
   "source": [
    "directory_images = 'train/images'\n",
    "directory_gt = 'train/gt'\n",
    "MA_directory_images = 'Massachussets Building/train/input'\n",
    "MA_directory_gt = 'Massachussets Building/train/target'"
   ]
  },
  {
   "cell_type": "code",
   "execution_count": null,
   "metadata": {},
   "outputs": [],
   "source": []
  },
  {
   "cell_type": "code",
   "execution_count": 242,
   "metadata": {},
   "outputs": [],
   "source": [
    "def create_dataset(directory,dataset_name,is_Massachussets=True):\n",
    "    '''Assumes directory_images is where ground truth labels are. Returns dataset of Masked images with annotations'''\n",
    "    images = []\n",
    "    all_images = os.listdir(directory)\n",
    "    all_images = all_images\n",
    "    for tif_img in all_images:\n",
    "        img_filename = os.path.join(directory, tif_img) \n",
    "        img = mpimg.imread(img_filename)\n",
    "        if is_Massachussets: #Massachussets Building images are RGB and need to be first converted to grayscale\n",
    "            originalImage = cv2.imread(img_filename)\n",
    "            img = cv2.cvtColor(originalImage, cv2.COLOR_BGR2GRAY)\n",
    "        width,height = img.shape\n",
    "        img_array = np.array(img)\n",
    "        img_array_resized = img_array.resize(width, height, 1)\n",
    "        Imantics_image = Image(img_array_resized)\n",
    "        img_annotation= Annotation.from_mask(Mask(img), category = Category('building'))\n",
    "        Imantics_image.add(img_annotation)\n",
    "        images.append(Imantics_image)\n",
    "    return Dataset(dataset_name,images)\n",
    "        \n",
    "\n",
    "    "
   ]
  },
  {
   "cell_type": "code",
   "execution_count": 243,
   "metadata": {},
   "outputs": [
    {
     "name": "stdout",
     "output_type": "stream",
     "text": [
      "2019-10-15 19:19:15.846041\n",
      "2019-10-15 19:20:18.430533\n"
     ]
    }
   ],
   "source": [
    "print(datetime.datetime.now())\n",
    "inria_dataset= create_dataset(directory_gt, 'AerialImageDataset_Inria')\n",
    "print(datetime.datetime.now())"
   ]
  },
  {
   "cell_type": "code",
   "execution_count": 128,
   "metadata": {},
   "outputs": [
    {
     "name": "stdout",
     "output_type": "stream",
     "text": [
      "2019-10-15 18:08:30.026017\n",
      "2019-10-15 18:08:40.665650\n"
     ]
    }
   ],
   "source": [
    "print(datetime.datetime.now())\n",
    "inria.coco()\n",
    "print(datetime.datetime.now())\n"
   ]
  },
  {
   "cell_type": "code",
   "execution_count": 244,
   "metadata": {},
   "outputs": [
    {
     "name": "stdout",
     "output_type": "stream",
     "text": [
      "2019-10-15 19:20:40.380359\n",
      "2019-10-15 19:21:07.574423\n"
     ]
    }
   ],
   "source": [
    "print(datetime.datetime.now())\n",
    "mass_dataset= create_dataset(MA_directory_gt, 'Massachussets Building',True)\n",
    "print(datetime.datetime.now())"
   ]
  },
  {
   "cell_type": "code",
   "execution_count": 131,
   "metadata": {},
   "outputs": [],
   "source": [
    "print(datetime.datetime.now())\n",
    "mass_dataset.coco()\n",
    "print(datetime.datetime.now())"
   ]
  },
  {
   "cell_type": "code",
   "execution_count": null,
   "metadata": {},
   "outputs": [],
   "source": []
  },
  {
   "cell_type": "code",
   "execution_count": null,
   "metadata": {},
   "outputs": [],
   "source": []
  },
  {
   "cell_type": "code",
   "execution_count": null,
   "metadata": {},
   "outputs": [],
   "source": []
  },
  {
   "cell_type": "code",
   "execution_count": null,
   "metadata": {},
   "outputs": [],
   "source": []
  },
  {
   "cell_type": "code",
   "execution_count": null,
   "metadata": {},
   "outputs": [],
   "source": []
  },
  {
   "cell_type": "code",
   "execution_count": null,
   "metadata": {},
   "outputs": [],
   "source": []
  },
  {
   "cell_type": "code",
   "execution_count": null,
   "metadata": {},
   "outputs": [],
   "source": []
  },
  {
   "cell_type": "code",
   "execution_count": null,
   "metadata": {},
   "outputs": [],
   "source": []
  },
  {
   "cell_type": "code",
   "execution_count": null,
   "metadata": {},
   "outputs": [],
   "source": []
  },
  {
   "cell_type": "code",
   "execution_count": null,
   "metadata": {},
   "outputs": [],
   "source": []
  },
  {
   "cell_type": "code",
   "execution_count": null,
   "metadata": {},
   "outputs": [],
   "source": []
  },
  {
   "cell_type": "code",
   "execution_count": null,
   "metadata": {},
   "outputs": [],
   "source": []
  },
  {
   "cell_type": "code",
   "execution_count": null,
   "metadata": {},
   "outputs": [],
   "source": []
  },
  {
   "cell_type": "code",
   "execution_count": null,
   "metadata": {},
   "outputs": [],
   "source": []
  },
  {
   "cell_type": "code",
   "execution_count": null,
   "metadata": {},
   "outputs": [],
   "source": []
  },
  {
   "cell_type": "code",
   "execution_count": null,
   "metadata": {},
   "outputs": [],
   "source": []
  },
  {
   "cell_type": "code",
   "execution_count": null,
   "metadata": {},
   "outputs": [],
   "source": []
  }
 ],
 "metadata": {
  "kernelspec": {
   "display_name": "Python 3",
   "language": "python",
   "name": "python3"
  },
  "language_info": {
   "codemirror_mode": {
    "name": "ipython",
    "version": 2
   },
   "file_extension": ".py",
   "mimetype": "text/x-python",
   "name": "python",
   "nbconvert_exporter": "python",
   "pygments_lexer": "ipython2",
   "version": "2.7.15"
  }
 },
 "nbformat": 4,
 "nbformat_minor": 2
}
