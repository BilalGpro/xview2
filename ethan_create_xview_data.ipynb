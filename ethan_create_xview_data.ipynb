{
 "cells": [
  {
   "cell_type": "code",
   "execution_count": 2,
   "metadata": {},
   "outputs": [],
   "source": [
    "%load_ext autoreload\n",
    "%autoreload 2"
   ]
  },
  {
   "cell_type": "code",
   "execution_count": 3,
   "metadata": {},
   "outputs": [],
   "source": [
    "import glob\n",
    "import random\n",
    "import datetime"
   ]
  },
  {
   "cell_type": "code",
   "execution_count": 4,
   "metadata": {},
   "outputs": [],
   "source": [
    "from annotation_formatter import LocalizationAnnotationFormatter,DamageAnnotationFormatter"
   ]
  },
  {
   "cell_type": "code",
   "execution_count": 5,
   "metadata": {},
   "outputs": [],
   "source": [
    "# http://code.activestate.com/recipes/303060-group-a-list-into-sequential-n-tuples/\n",
    "def group(lst, n):\n",
    "    \"\"\"group([0,3,4,10,2,3], 2) => [(0,3), (4,10), (2,3)]\n",
    "    \n",
    "    Group a list into consecutive n-tuples. Incomplete tuples are\n",
    "    discarded e.g.\n",
    "    \n",
    "    >>> group(range(10), 3)\n",
    "    [(0, 1, 2), (3, 4, 5), (6, 7, 8)]\n",
    "    \"\"\"\n",
    "    return zip(*[lst[i::n] for i in range(n)]) "
   ]
  },
  {
   "cell_type": "code",
   "execution_count": 6,
   "metadata": {},
   "outputs": [],
   "source": [
    "# each file corresponds to an image\n",
    "annotation_files = sorted(glob.glob(\"data/train/labels/*\"))\n",
    "annotation_files_as_pairs = list(group(annotation_files, 2))\n",
    "random.Random(4).shuffle(annotation_files_as_pairs)\n",
    "index = int(0.99*len(annotation_files_as_pairs))\n",
    "# now create the lists\n",
    "train_files = []\n",
    "val_files = []\n",
    "for (pre, post) in annotation_files_as_pairs[0:index]:\n",
    "    train_files.append(pre)\n",
    "    train_files.append(post)\n",
    "for (pre, post) in annotation_files_as_pairs[index:]:\n",
    "    val_files.append(pre)\n",
    "    val_files.append(post)"
   ]
  },
  {
   "cell_type": "code",
   "execution_count": 7,
   "metadata": {},
   "outputs": [
    {
     "name": "stdout",
     "output_type": "stream",
     "text": [
      "Num train files: 5542\n",
      "Num val files: 56\n"
     ]
    }
   ],
   "source": [
    "print(\"Num train files: {}\\nNum val files: {}\".format(len(train_files), len(val_files)))"
   ]
  },
  {
   "cell_type": "code",
   "execution_count": 8,
   "metadata": {},
   "outputs": [],
   "source": [
    "post_files = [x for x in train_files if 'post' in x]"
   ]
  },
  {
   "cell_type": "code",
   "execution_count": 26,
   "metadata": {},
   "outputs": [],
   "source": [
    "# create train and validation datasets for instance segmentation\n",
    "train_annotation_formatter = LocalizationAnnotationFormatter(instance_segmentation=True)\n",
    "for filename in train_files:\n",
    "    train_annotation_formatter.add_image_from_filename(filename)\n",
    "train_annotation_formatter.write_to_json(\"xview_instance_segmentation_dataset_train.json\")\n",
    "\n",
    "val_annotation_formatter = LocalizationAnnotationFormatter(instance_segmentation=True)\n",
    "for filename in val_files:\n",
    "    val_annotation_formatter.add_image_from_filename(filename)\n",
    "val_annotation_formatter.write_to_json(\"xview_instance_segmentation_dataset_val.json\")"
   ]
  },
  {
   "cell_type": "code",
   "execution_count": 27,
   "metadata": {},
   "outputs": [],
   "source": [
    "# the same but for semantic segmentation\n",
    "train_annotation_formatter = LocalizationAnnotationFormatter(instance_segmentation=False)\n",
    "for filename in train_files:\n",
    "    train_annotation_formatter.add_image_from_filename(filename)\n",
    "train_annotation_formatter.write_to_json(\"xview_semantic_segmentation_dataset_train.json\")\n",
    "\n",
    "val_annotation_formatter = LocalizationAnnotationFormatter(instance_segmentation=False)\n",
    "for filename in val_files:\n",
    "    val_annotation_formatter.add_image_from_filename(filename)\n",
    "val_annotation_formatter.write_to_json(\"xview_semantic_segmentation_dataset_val.json\")"
   ]
  },
  {
   "cell_type": "code",
   "execution_count": 11,
   "metadata": {},
   "outputs": [
    {
     "name": "stdout",
     "output_type": "stream",
     "text": [
      "1\n",
      "2019-11-22 01:32:50.420177\n",
      "2\n",
      "2019-11-22 01:32:50.481310\n",
      "3\n",
      "2019-11-22 01:32:50.492903\n",
      "4\n",
      "2019-11-22 01:32:50.516502\n"
     ]
    }
   ],
   "source": [
    "# semantic segmentation and damage assessment\n",
    "damage_annotation_formatter = DamageAnnotationFormatter(instance_segmentation=False)\n",
    "count = 0\n",
    "for filename in post_files[:4]:\n",
    "    count+=1\n",
    "    print(count)\n",
    "    print(datetime.datetime.now())\n",
    "    damage_annotation_formatter.add_image_from_filename(filename)\n",
    "damage_annotation_formatter.write_to_json(\"xview_damage_assessment_dataset_train.json\")\n",
    "\n"
   ]
  },
  {
   "cell_type": "code",
   "execution_count": null,
   "metadata": {},
   "outputs": [],
   "source": []
  },
  {
   "cell_type": "code",
   "execution_count": null,
   "metadata": {},
   "outputs": [],
   "source": []
  },
  {
   "cell_type": "code",
   "execution_count": null,
   "metadata": {},
   "outputs": [],
   "source": []
  }
 ],
 "metadata": {
  "kernelspec": {
   "display_name": "Python 3",
   "language": "python",
   "name": "python3"
  },
  "language_info": {
   "codemirror_mode": {
    "name": "ipython",
    "version": 2
   },
   "file_extension": ".py",
   "mimetype": "text/x-python",
   "name": "python",
   "nbconvert_exporter": "python",
   "pygments_lexer": "ipython2",
   "version": "2.7.15"
  }
 },
 "nbformat": 4,
 "nbformat_minor": 2
}
