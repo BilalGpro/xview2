{
 "cells": [
  {
   "cell_type": "markdown",
   "metadata": {},
   "source": [
    "# Test Submission\n",
    "\n",
    "Quick test for submission."
   ]
  },
  {
   "cell_type": "code",
   "execution_count": null,
   "metadata": {},
   "outputs": [],
   "source": [
    "%matplotlib inline\n",
    "from pycocotools.coco import COCO\n",
    "import numpy as np\n",
    "import cv2\n",
    "import skimage.io as io\n",
    "import matplotlib.pyplot as plt\n",
    "import glob\n",
    "import os\n",
    "import random\n",
    "from PIL import Image"
   ]
  },
  {
   "cell_type": "code",
   "execution_count": null,
   "metadata": {},
   "outputs": [],
   "source": [
    "def get_image_with_class_value(image, value):\n",
    "    return np.where(image == value, 1, 0).astype(\"uint8\") * 255"
   ]
  },
  {
   "cell_type": "code",
   "execution_count": null,
   "metadata": {},
   "outputs": [],
   "source": [
    "# TYPE = \"localization\"\n",
    "TYPE = \"damage\""
   ]
  },
  {
   "cell_type": "code",
   "execution_count": null,
   "metadata": {},
   "outputs": [],
   "source": [
    "# get the original image name\n",
    "if TYPE == \"localization\":\n",
    "    image_names = [os.path.basename(path) for path in glob.glob(\"./SUBMISSION_LOCALIZATION/*{}*\".format(TYPE))]\n",
    "    image_name = image_names[random.randint(0, len(image_names) - 1)]\n",
    "    original_image_name = image_name.replace(\"localization\", \"pre\").replace(\"_prediction\", \"\")\n",
    "    pred_image = cv2.imread(\"./SUBMISSION_LOCALIZATION/{}\".format(image_name))\n",
    "    orig_image = cv2.imread(\"./data/test/images/{}\".format(original_image_name))\n",
    "    assert np.array(Image.open(\"./SUBMISSION_LOCALIZATION/{}\".format(image_name))).shape == (1024, 1024)\n",
    "    assert np.array(Image.open(\"./data/test/images/{}\".format(original_image_name))).shape == (1024, 1024, 3)\n",
    "elif TYPE == \"damage\":\n",
    "    image_names = [os.path.basename(path) for path in glob.glob(\"./SUBMISSION_DAMAGE/*{}*\".format(TYPE))]\n",
    "    image_name = image_names[random.randint(0, len(image_names) - 1)]\n",
    "    original_image_name = image_name.replace(\"damage\", \"post\").replace(\"_prediction\", \"\")\n",
    "    pred_image = cv2.imread(\"./SUBMISSION_DAMAGE/{}\".format(image_name))\n",
    "    orig_image = cv2.imread(\"./data/test/images/{}\".format(original_image_name))\n",
    "    assert np.array(Image.open(\"./SUBMISSION_DAMAGE/{}\".format(image_name))).shape == (1024, 1024)\n",
    "    assert np.array(Image.open(\"./data/test/images/{}\".format(original_image_name))).shape == (1024, 1024, 3)\n",
    "print(\"image_name: {}\".format(image_name))\n",
    "print(\"original_image_name: {}\".format(original_image_name))"
   ]
  },
  {
   "cell_type": "code",
   "execution_count": null,
   "metadata": {},
   "outputs": [],
   "source": [
    "if TYPE == \"localization\":\n",
    "    image = np.hstack([pred_image * 255, orig_image])\n",
    "    plt.figure(figsize=(20, 10))\n",
    "    plt.imshow(image)\n",
    "    print(\"Pred, original\")\n",
    "elif TYPE == \"damage\":\n",
    "    image = np.hstack([\n",
    "        get_image_with_class_value(pred_image, 1),\n",
    "        get_image_with_class_value(pred_image, 2),\n",
    "        get_image_with_class_value(pred_image, 3),\n",
    "        get_image_with_class_value(pred_image, 4),\n",
    "        orig_image])\n",
    "    plt.figure(figsize=(20, 10))\n",
    "    plt.imshow(image)\n",
    "    print(\"Pred, original\")"
   ]
  },
  {
   "cell_type": "code",
   "execution_count": null,
   "metadata": {},
   "outputs": [],
   "source": []
  }
 ],
 "metadata": {
  "kernelspec": {
   "display_name": "Python 3",
   "language": "python",
   "name": "python3"
  },
  "language_info": {
   "codemirror_mode": {
    "name": "ipython",
    "version": 3
   },
   "file_extension": ".py",
   "mimetype": "text/x-python",
   "name": "python",
   "nbconvert_exporter": "python",
   "pygments_lexer": "ipython3",
   "version": "3.7.3"
  }
 },
 "nbformat": 4,
 "nbformat_minor": 1
}
